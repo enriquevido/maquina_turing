{
 "cells": [
  {
   "cell_type": "markdown",
   "metadata": {},
   "source": [
    "\n",
    "<div style=\"text-align: center;\">\n",
    "\n",
    "# Documentación de máquina de Turing escrita en Python\n",
    "## Matemáticas Discretas\n",
    "### Enrique Vidó Villalvazo\n",
    "### LIS - 201\n",
    "<img src=\"https://upload.wikimedia.org/wikipedia/commons/8/8f/Logo_de_la_Universidad_Veracruzana.svg\" alt=\"Gato bonito\" width=\"150\"/>"
   ]
  },
  {
   "cell_type": "markdown",
   "metadata": {},
   "source": [
    "### Qué es una Máquina de Turing\n",
    "Imaginemos una cinta infinita: Una máquina de Turing tiene una cinta infinita dividida en celdas, cada una de las cuales puede contener un símbolo (como un 0 o un 1) o estar en blanco. La cinta puede moverse hacia la izquierda o hacia la derecha.\n",
    "\n",
    "Una cabeza lectora/escritora: Hay una cabeza que puede leer el símbolo en la celda actual de la cinta y también escribir un nuevo símbolo en esa celda.\n",
    "Un conjunto de reglas: La máquina sigue un conjunto de reglas (o una tabla de instrucciones) que le dicen qué hacer según el símbolo que está leyendo y el estado actual en el que se encuentra.\n",
    "\n",
    "Estados: La máquina tiene una cantidad finita de estados. Dependiendo del estado actual y del símbolo leído, la máquina decide:\n",
    "- Qué símbolo escribir en la celda actual.\n",
    "- En qué dirección mover la cinta (izquierda o derecha).\n",
    "- A qué nuevo estado cambiar."
   ]
  },
  {
   "cell_type": "markdown",
   "metadata": {},
   "source": [
    "**El siguiente programa simula una máquina de Turing que suma un 1 a un número binario. Se inicia en el último bit y simula el acarreo binario. La máquina escribe el bit resultante en cada posición y mueve el cabezal a la izquierda hasta completar la operación. El estado final y el contenido de la cinta se imprimen al final.**"
   ]
  },
  {
   "cell_type": "markdown",
   "metadata": {},
   "source": [
    "1. Definición de la cinta de entrada"
   ]
  },
  {
   "cell_type": "code",
   "execution_count": 1,
   "metadata": {},
   "outputs": [
    {
     "name": "stdout",
     "output_type": "stream",
     "text": [
      "Número binario actual:  [0, 1, 0, 1, 0, 1, 0, 1, 1]\n"
     ]
    }
   ],
   "source": [
    "cinta = [0, 1, 0, 1, 0, 1, 0, 1, 1]\n",
    "print(\"Número binario actual: \", cinta)"
   ]
  },
  {
   "cell_type": "markdown",
   "metadata": {},
   "source": [
    "En el código anterior define la cinta de entrada como una lista de bits que representa un número binario. En este caso, el número binario es 010101011"
   ]
  },
  {
   "cell_type": "markdown",
   "metadata": {},
   "source": [
    "2. Definición de las transiciones de la máquina de Turing"
   ]
  },
  {
   "cell_type": "code",
   "execution_count": 2,
   "metadata": {},
   "outputs": [],
   "source": [
    "estadoActual = [1, 1, 1, 1, 2, 2, 2]\n",
    "lectura = [1, 0, '_', '0', 1, 0, '_']\n",
    "escribeCaracter = [0, 1, 1, '0', 0, 1, 1]\n",
    "estadoSiguiente = [1, 1, 3, 2, 2, 2, 3]\n",
    "moverCabezal = [-1, -1, 'L', -1, -1, -1, 'L']"
   ]
  },
  {
   "cell_type": "markdown",
   "metadata": {},
   "source": [
    "En el código anterior se definen las transiciones de la máquina de Turing. Cada lista contiene valores correspondientes a los estados actuales, los símbolos leídos, los símbolos a escribir, los estados siguientes y las direcciones del movimiento del cabezal."
   ]
  },
  {
   "cell_type": "markdown",
   "metadata": {},
   "source": [
    "3. Función buscar"
   ]
  },
  {
   "cell_type": "code",
   "execution_count": 3,
   "metadata": {},
   "outputs": [],
   "source": [
    "def buscar(estadoA, lecturaA):\n",
    "    for i in range(len(estadoActual)):\n",
    "        if estadoA == estadoActual[i] and lecturaA == lectura[i]:\n",
    "            print(f\"Debe escribir: {escribeCaracter[i]}, Va al estado nuevo: {estadoSiguiente[i]}, Mueve el cabezal a: {moverCabezal[i]}\")\n",
    "            acciones = {\"escribir\": escribeCaracter[i], \"estado\": estadoSiguiente[i], \"cabezal\": moverCabezal[i]}\n",
    "            return acciones\n"
   ]
  },
  {
   "cell_type": "markdown",
   "metadata": {},
   "source": [
    "En la función anterior se busca las acciones correspondientes en las listas de transiciones basadas en el estado actual y el símbolo leído. Retorna un diccionario con las acciones a realizar (escribir un símbolo, cambiar de estado, y mover el cabezal)."
   ]
  },
  {
   "cell_type": "markdown",
   "metadata": {},
   "source": [
    "4. Inicialización de la posición del cabezal y el estado"
   ]
  },
  {
   "cell_type": "code",
   "execution_count": 4,
   "metadata": {},
   "outputs": [],
   "source": [
    "cabezal = len(cinta) - 1\n",
    "estado = 1"
   ]
  },
  {
   "cell_type": "markdown",
   "metadata": {},
   "source": [
    "Se inicializa la posición del cabezal al último elemento de la cinta y el estado inicial de la máquina de Turing."
   ]
  },
  {
   "cell_type": "markdown",
   "metadata": {},
   "source": [
    "5. Ejecución de la máquina de Turing"
   ]
  },
  {
   "cell_type": "code",
   "execution_count": 5,
   "metadata": {},
   "outputs": [
    {
     "name": "stdout",
     "output_type": "stream",
     "text": [
      "Estado actual: 1, Valor en cinta: 1, Ubicación cabezal: 8\n",
      "Debe escribir: 0, Va al estado nuevo: 1, Mueve el cabezal a: -1\n",
      "Estado actual: 1, Valor en cinta: 1, Ubicación cabezal: 7\n",
      "Debe escribir: 0, Va al estado nuevo: 1, Mueve el cabezal a: -1\n",
      "Estado actual: 1, Valor en cinta: 0, Ubicación cabezal: 6\n",
      "Debe escribir: 1, Va al estado nuevo: 1, Mueve el cabezal a: -1\n",
      "Estado actual: 1, Valor en cinta: 1, Ubicación cabezal: 5\n",
      "Debe escribir: 0, Va al estado nuevo: 1, Mueve el cabezal a: -1\n",
      "Estado actual: 1, Valor en cinta: 0, Ubicación cabezal: 4\n",
      "Debe escribir: 1, Va al estado nuevo: 1, Mueve el cabezal a: -1\n",
      "Estado actual: 1, Valor en cinta: 1, Ubicación cabezal: 3\n",
      "Debe escribir: 0, Va al estado nuevo: 1, Mueve el cabezal a: -1\n",
      "Estado actual: 1, Valor en cinta: 0, Ubicación cabezal: 2\n",
      "Debe escribir: 1, Va al estado nuevo: 1, Mueve el cabezal a: -1\n",
      "Estado actual: 1, Valor en cinta: 1, Ubicación cabezal: 1\n",
      "Debe escribir: 0, Va al estado nuevo: 1, Mueve el cabezal a: -1\n",
      "Estado actual: 1, Valor en cinta: 0, Ubicación cabezal: 0\n",
      "Debe escribir: 1, Va al estado nuevo: 1, Mueve el cabezal a: -1\n",
      "Número binario después de sumar 1:  [1, 0, 1, 0, 1, 0, 1, 0, 0]\n"
     ]
    }
   ],
   "source": [
    "while True:\n",
    "    if cabezal > -1:\n",
    "        print(f\"Estado actual: {estado}, Valor en cinta: {cinta[cabezal]}, Ubicación cabezal: {cabezal}\")\n",
    "        accionesLocal = buscar(estado, cinta[cabezal])\n",
    "        cinta[cabezal] = accionesLocal[\"escribir\"]\n",
    "        estado = accionesLocal[\"estado\"]\n",
    "        if accionesLocal[\"cabezal\"] == 'L':\n",
    "            cabezal -= 1\n",
    "        else:\n",
    "            cabezal += accionesLocal[\"cabezal\"]\n",
    "    else:\n",
    "        break\n",
    "\n",
    "print(\"Número binario después de sumar 1: \", cinta)"
   ]
  },
  {
   "cell_type": "markdown",
   "metadata": {},
   "source": [
    "Este bloque ejecuta la máquina de Turing en un bucle while hasta que el cabezal sale de la cinta. En cada iteración, la máquina:\n",
    "\n",
    "- Imprime el estado actual, el valor en la cinta y la ubicación del cabezal.\n",
    "- Llama a la función buscar para obtener las acciones correspondientes.\n",
    "- Actualiza el símbolo en la cinta.\n",
    "- Cambia el estado.\n",
    "- Mueve el cabezal según las instrucciones.\n",
    "\n",
    "Al final, imprime el número binario después de sumar 1."
   ]
  }
 ],
 "metadata": {
  "kernelspec": {
   "display_name": "Python 3",
   "language": "python",
   "name": "python3"
  },
  "language_info": {
   "codemirror_mode": {
    "name": "ipython",
    "version": 3
   },
   "file_extension": ".py",
   "mimetype": "text/x-python",
   "name": "python",
   "nbconvert_exporter": "python",
   "pygments_lexer": "ipython3",
   "version": "3.12.2"
  }
 },
 "nbformat": 4,
 "nbformat_minor": 2
}
